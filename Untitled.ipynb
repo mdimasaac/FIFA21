{
 "cells": [
  {
   "cell_type": "code",
   "execution_count": 1,
   "id": "758ce189",
   "metadata": {},
   "outputs": [],
   "source": [
    "# the other file is our group's solution for FIFA.\n",
    "import pandas as pd\n",
    "import numpy as np\n",
    "import matplotlib.pyplot as plt\n",
    "import seaborn as sns \n",
    "%matplotlib inline\n",
    "from sklearn.preprocessing import MinMaxScaler\n",
    "from sklearn.preprocessing import StandardScaler\n",
    "from sklearn.preprocessing import OneHotEncoder\n",
    "from sklearn import linear_model\n",
    "from sklearn.model_selection import train_test_split\n",
    "from sklearn.metrics import mean_squared_error as mse\n",
    "from sklearn.metrics import mean_absolute_error as mae\n",
    "from sklearn.metrics import r2_score"
   ]
  },
  {
   "cell_type": "code",
   "execution_count": null,
   "id": "9b8089d1",
   "metadata": {},
   "outputs": [],
   "source": [
    "def read_csv(filename):\n",
    "    df = pd.read_csv(filename)\n",
    "    return df\n",
    "def maximize_col():\n",
    "    pd.set_option('display.max_columns', None)\n",
    "def maximize_row():\n",
    "    pd.set_option('display.max_rows', None)\n",
    "def snake_label(df):\n",
    "    cols = []\n",
    "    for i in df.columns:\n",
    "        cols.append(i.lower())\n",
    "    df.columns = cols\n",
    "    df.columns = df.columns.str.replace(\" \",\"_\")\n",
    "    return df\n",
    "def remove_character(df, cols, a, b):\n",
    "    # df is dataframe, cols is a list of column name(s), a is character you want to remove from column(s)\n",
    "    for i in cols:\n",
    "        df[i] = df[i].str.replace(a,b)\n",
    "    return df\n",
    "def value_to_float(a):\n",
    "    if 'K' in a:\n",
    "        if len(a) > 1:\n",
    "            return float(a.replace('K', '')) * 1000\n",
    "        return 1000.0\n",
    "    if 'M' in a:\n",
    "        if len(a) > 1:\n",
    "            return float(a.replace('M', '')) * 1000000\n",
    "        return 1000000.0\n",
    "    else:\n",
    "        return float(a)\n",
    "\n",
    "# inputting csv file name\n",
    "file_name = \"filename.csv\"\n",
    "# making dataframe\n",
    "data = read_csv(file_name)\n",
    "# column labels become all-lowercase and separated with\"_\"\n",
    "data = snake_label(data)\n",
    "# maximize_col()\n",
    "# maximize_row()\n",
    "# removing SINGLE string from specific column(s)\n",
    "# string to remove\n",
    "char = '★'\n",
    "char2 = '€'\n",
    "# replace with this string\n",
    "change_to = \"...\"\n",
    "# column names, which items need to be changed (string removal)\n",
    "columns = [\"column1\", \"column2\"]\n",
    "# put in all parameters\n",
    "try:\n",
    "    data = remove_character(data, columns, char, change_to)\n",
    "except:\n",
    "    pass\n",
    "# removing all duplicates\n",
    "data = data.drop_duplicates()\n",
    "# converting K to e+03, M to e+06\n",
    "data[\"column1\"] = data[\"column1\"].apply(value_to_float)"
   ]
  }
 ],
 "metadata": {
  "kernelspec": {
   "display_name": "Python 3.10.2 64-bit",
   "language": "python",
   "name": "python3"
  },
  "language_info": {
   "codemirror_mode": {
    "name": "ipython",
    "version": 3
   },
   "file_extension": ".py",
   "mimetype": "text/x-python",
   "name": "python",
   "nbconvert_exporter": "python",
   "pygments_lexer": "ipython3",
   "version": "3.10.2"
  },
  "vscode": {
   "interpreter": {
    "hash": "1acc24bd1901f9ae8c29efb6830fcc1ca9fe0219dd00f8f1dc1b91856def15a9"
   }
  }
 },
 "nbformat": 4,
 "nbformat_minor": 5
}
